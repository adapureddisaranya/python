{
  "nbformat": 4,
  "nbformat_minor": 0,
  "metadata": {
    "colab": {
      "provenance": [],
      "authorship_tag": "ABX9TyPrDb7X7B10ah4ucVonhg28",
      "include_colab_link": true
    },
    "kernelspec": {
      "name": "python3",
      "display_name": "Python 3"
    },
    "language_info": {
      "name": "python"
    }
  },
  "cells": [
    {
      "cell_type": "markdown",
      "metadata": {
        "id": "view-in-github",
        "colab_type": "text"
      },
      "source": [
        "<a href=\"https://colab.research.google.com/github/adapureddisaranya/python/blob/main/temp_converter.ipynb\" target=\"_parent\"><img src=\"https://colab.research.google.com/assets/colab-badge.svg\" alt=\"Open In Colab\"/></a>"
      ]
    },
    {
      "cell_type": "code",
      "execution_count": 2,
      "metadata": {
        "colab": {
          "base_uri": "https://localhost:8080/"
        },
        "id": "MAZjiAhSodHw",
        "outputId": "7a9c184b-2837-47bc-a714-fb8c32b12260"
      },
      "outputs": [
        {
          "output_type": "stream",
          "name": "stdout",
          "text": [
            "Temperature Conversion\n",
            "1. Fahrenheit to Celsius\n",
            "2. Celsius to Fahrenheit\n",
            "Enter your choice (1/2): 2\n",
            "Enter temperature in Celsius: 56\n",
            "56.0°C is equal to 132.80°F\n"
          ]
        }
      ],
      "source": [
        "def fahrenheit_to_celsius(fahrenheit):\n",
        "    celsius = (fahrenheit - 32) * 5/9\n",
        "    return celsius\n",
        "\n",
        "def celsius_to_fahrenheit(celsius):\n",
        "    fahrenheit = (celsius * 9/5) + 32\n",
        "    return fahrenheit\n",
        "\n",
        "def main():\n",
        "    print(\"Temperature Conversion\")\n",
        "    print(\"1. Fahrenheit to Celsius\")\n",
        "    print(\"2. Celsius to Fahrenheit\")\n",
        "\n",
        "    choice = int(input(\"Enter your choice (1/2): \"))\n",
        "\n",
        "    if choice == 1:\n",
        "        f_temp = float(input(\"Enter temperature in Fahrenheit: \"))\n",
        "        c_temp = fahrenheit_to_celsius(f_temp)\n",
        "        print(f\"{f_temp}°F is equal to {c_temp:.2f}°C\")\n",
        "    elif choice == 2:\n",
        "        c_temp = float(input(\"Enter temperature in Celsius: \"))\n",
        "        f_temp = celsius_to_fahrenheit(c_temp)\n",
        "        print(f\"{c_temp}°C is equal to {f_temp:.2f}°F\")\n",
        "    else:\n",
        "        print(\"Invalid choice\")\n",
        "\n",
        "if __name__ == \"__main__\":\n",
        "    main()\n"
      ]
    }
  ]
}