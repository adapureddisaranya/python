{
  "nbformat": 4,
  "nbformat_minor": 0,
  "metadata": {
    "colab": {
      "provenance": [],
      "authorship_tag": "ABX9TyNz7l1dBCaU75LZqKG7CyE8",
      "include_colab_link": true
    },
    "kernelspec": {
      "name": "python3",
      "display_name": "Python 3"
    },
    "language_info": {
      "name": "python"
    }
  },
  "cells": [
    {
      "cell_type": "markdown",
      "metadata": {
        "id": "view-in-github",
        "colab_type": "text"
      },
      "source": [
        "<a href=\"https://colab.research.google.com/github/adapureddisaranya/python/blob/main/SIMULATOR.ipynb\" target=\"_parent\"><img src=\"https://colab.research.google.com/assets/colab-badge.svg\" alt=\"Open In Colab\"/></a>"
      ]
    },
    {
      "cell_type": "code",
      "execution_count": 2,
      "metadata": {
        "colab": {
          "base_uri": "https://localhost:8080/"
        },
        "id": "CM_ScLdorFOC",
        "outputId": "4e13901a-07ed-47aa-d961-903d188a6209"
      },
      "outputs": [
        {
          "output_type": "stream",
          "name": "stdout",
          "text": [
            "ATM Simulation\n",
            "1. Check Balance\n",
            "2. Deposit\n",
            "3. Withdraw\n",
            "4. Quit\n",
            "Enter your choice (1/2/3/4): 1\n",
            "Your balance: $0\n",
            "ATM Simulation\n",
            "1. Check Balance\n",
            "2. Deposit\n",
            "3. Withdraw\n",
            "4. Quit\n",
            "Enter your choice (1/2/3/4): 2\n",
            "Enter deposit amount: 5000\n",
            "Deposited $5000.0. New balance: $5000.0\n",
            "ATM Simulation\n",
            "1. Check Balance\n",
            "2. Deposit\n",
            "3. Withdraw\n",
            "4. Quit\n",
            "Enter your choice (1/2/3/4): 3\n",
            "Enter withdrawal amount: 2000\n",
            "Withdrew $2000.0. New balance: $3000.0\n",
            "ATM Simulation\n",
            "1. Check Balance\n",
            "2. Deposit\n",
            "3. Withdraw\n",
            "4. Quit\n",
            "Enter your choice (1/2/3/4): 1\n",
            "Your balance: $3000.0\n",
            "ATM Simulation\n",
            "1. Check Balance\n",
            "2. Deposit\n",
            "3. Withdraw\n",
            "4. Quit\n",
            "Enter your choice (1/2/3/4): 4\n",
            "Thank you for using the ATM. Goodbye!\n"
          ]
        }
      ],
      "source": [
        "class ATM:\n",
        "    def __init__(self, balance=0):\n",
        "        self.balance = balance\n",
        "\n",
        "    def check_balance(self):\n",
        "        return self.balance\n",
        "\n",
        "    def deposit(self, amount):\n",
        "        if amount > 0:\n",
        "            self.balance += amount\n",
        "            return f\"Deposited ${amount}. New balance: ${self.balance}\"\n",
        "        else:\n",
        "            return \"Invalid deposit amount\"\n",
        "\n",
        "    def withdraw(self, amount):\n",
        "        if 0 < amount <= self.balance:\n",
        "            self.balance -= amount\n",
        "            return f\"Withdrew ${amount}. New balance: ${self.balance}\"\n",
        "        else:\n",
        "            return \"Insufficient funds\"\n",
        "\n",
        "def main():\n",
        "    atm = ATM()\n",
        "\n",
        "    while True:\n",
        "        print(\"ATM Simulation\")\n",
        "        print(\"1. Check Balance\")\n",
        "        print(\"2. Deposit\")\n",
        "        print(\"3. Withdraw\")\n",
        "        print(\"4. Quit\")\n",
        "\n",
        "        choice = int(input(\"Enter your choice (1/2/3/4): \"))\n",
        "\n",
        "        if choice == 1:\n",
        "            balance = atm.check_balance()\n",
        "            print(f\"Your balance: ${balance}\")\n",
        "        elif choice == 2:\n",
        "            amount = float(input(\"Enter deposit amount: \"))\n",
        "            result = atm.deposit(amount)\n",
        "            print(result)\n",
        "        elif choice == 3:\n",
        "            amount = float(input(\"Enter withdrawal amount: \"))\n",
        "            result = atm.withdraw(amount)\n",
        "            print(result)\n",
        "        elif choice == 4:\n",
        "            print(\"Thank you for using the ATM. Goodbye!\")\n",
        "            break\n",
        "        else:\n",
        "            print(\"Invalid choice\")\n",
        "\n",
        "if __name__ == \"__main__\":\n",
        "    main()\n"
      ]
    }
  ]
}